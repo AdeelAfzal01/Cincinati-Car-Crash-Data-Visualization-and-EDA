{
 "cells": [
  {
   "cell_type": "code",
   "execution_count": 1,
   "metadata": {},
   "outputs": [],
   "source": [
    "import warnings\n",
    "warnings.filterwarnings('ignore')\n",
    "\n",
    "import numpy as np\n",
    "import pandas as pd\n",
    "import matplotlib.pyplot as plt\n",
    "import seaborn as sns\n",
    "\n",
    "import folium\n",
    "from folium.plugins import HeatMap, HeatMapWithTime"
   ]
  },
  {
   "cell_type": "code",
   "execution_count": 2,
   "metadata": {},
   "outputs": [],
   "source": [
    "df = pd.read_csv('cincinnati_traffic_crash_data__cpd.csv')"
   ]
  },
  {
   "cell_type": "code",
   "execution_count": 3,
   "metadata": {},
   "outputs": [
    {
     "data": {
      "text/html": [
       "<div>\n",
       "<style scoped>\n",
       "    .dataframe tbody tr th:only-of-type {\n",
       "        vertical-align: middle;\n",
       "    }\n",
       "\n",
       "    .dataframe tbody tr th {\n",
       "        vertical-align: top;\n",
       "    }\n",
       "\n",
       "    .dataframe thead th {\n",
       "        text-align: right;\n",
       "    }\n",
       "</style>\n",
       "<table border=\"1\" class=\"dataframe\">\n",
       "  <thead>\n",
       "    <tr style=\"text-align: right;\">\n",
       "      <th></th>\n",
       "      <th>Unnamed: 0</th>\n",
       "      <th>ADDRESS_X</th>\n",
       "      <th>LATITUDE_X</th>\n",
       "      <th>LONGITUDE_X</th>\n",
       "      <th>AGE</th>\n",
       "      <th>COMMUNITY_COUNCIL_NEIGHBORHOOD</th>\n",
       "      <th>CPD_NEIGHBORHOOD</th>\n",
       "      <th>CRASHDATE</th>\n",
       "      <th>CRASHLOCATION</th>\n",
       "      <th>CRASHSEVERITY</th>\n",
       "      <th>...</th>\n",
       "      <th>LOCALREPORTNO</th>\n",
       "      <th>MANNEROFCRASH</th>\n",
       "      <th>ROADCONDITIONSPRIMARY</th>\n",
       "      <th>ROADCONTOUR</th>\n",
       "      <th>ROADSURFACE</th>\n",
       "      <th>SNA_NEIGHBORHOOD</th>\n",
       "      <th>TYPEOFPERSON</th>\n",
       "      <th>WEATHER</th>\n",
       "      <th>ZIP</th>\n",
       "      <th>UNITTYPE</th>\n",
       "    </tr>\n",
       "  </thead>\n",
       "  <tbody>\n",
       "    <tr>\n",
       "      <th>0</th>\n",
       "      <td>19</td>\n",
       "      <td>63XX GRACELY</td>\n",
       "      <td>39.107808</td>\n",
       "      <td>-84.688195</td>\n",
       "      <td>31-40</td>\n",
       "      <td>SAYLER PARK</td>\n",
       "      <td>SAYLER  PARK</td>\n",
       "      <td>06/17/2014 05:25:00 PM</td>\n",
       "      <td>03 - T-INTERSECTION</td>\n",
       "      <td>3 - PROPERTY DAMAGE ONLY (PDO)</td>\n",
       "      <td>...</td>\n",
       "      <td>145004877</td>\n",
       "      <td>2 - REAR-END</td>\n",
       "      <td>01 - DRY</td>\n",
       "      <td>1 - STRAIGHT LEVEL</td>\n",
       "      <td>2 - BLACKTOP, BITUMINOUS, ASPHALT</td>\n",
       "      <td>SAYLER PARK</td>\n",
       "      <td>D - DRIVER</td>\n",
       "      <td>1 - CLEAR</td>\n",
       "      <td>45233</td>\n",
       "      <td>03 - MID SIZE</td>\n",
       "    </tr>\n",
       "    <tr>\n",
       "      <th>1</th>\n",
       "      <td>20</td>\n",
       "      <td>9XX CHATEAU AV</td>\n",
       "      <td>39.108110</td>\n",
       "      <td>-84.560280</td>\n",
       "      <td>18-25</td>\n",
       "      <td>EAST PRICE HILL</td>\n",
       "      <td>EAST PRICE HILL</td>\n",
       "      <td>02/15/2015 03:00:00 PM</td>\n",
       "      <td>01 - NOT AN INTERSECTION</td>\n",
       "      <td>2 - INJURY</td>\n",
       "      <td>...</td>\n",
       "      <td>155002081</td>\n",
       "      <td>1 - NOT COLLISION BETWEEN TWO MOTOR VEHICLES I...</td>\n",
       "      <td>01 - DRY</td>\n",
       "      <td>2 - STRAIGHT GRADE</td>\n",
       "      <td>2 - BLACKTOP, BITUMINOUS, ASPHALT</td>\n",
       "      <td>EAST PRICE HILL</td>\n",
       "      <td>O - OCCUPANT</td>\n",
       "      <td>1 - CLEAR</td>\n",
       "      <td>45204</td>\n",
       "      <td>02 - COMPACT</td>\n",
       "    </tr>\n",
       "    <tr>\n",
       "      <th>2</th>\n",
       "      <td>21</td>\n",
       "      <td>30XX READING RD</td>\n",
       "      <td>39.135486</td>\n",
       "      <td>-84.496520</td>\n",
       "      <td>18-25</td>\n",
       "      <td>AVONDALE</td>\n",
       "      <td>AVONDALE</td>\n",
       "      <td>07/23/2015 11:54:00 PM</td>\n",
       "      <td>01 - NOT AN INTERSECTION</td>\n",
       "      <td>3 - PROPERTY DAMAGE ONLY (PDO)</td>\n",
       "      <td>...</td>\n",
       "      <td>155010090</td>\n",
       "      <td>7 - SIDESWIPE, SAME DIRECTION</td>\n",
       "      <td>01 - DRY</td>\n",
       "      <td>1 - STRAIGHT LEVEL</td>\n",
       "      <td>2 - BLACKTOP, BITUMINOUS, ASPHALT</td>\n",
       "      <td>AVONDALE</td>\n",
       "      <td>O - OCCUPANT</td>\n",
       "      <td>1 - CLEAR</td>\n",
       "      <td>45206</td>\n",
       "      <td>04 - FULL SIZE</td>\n",
       "    </tr>\n",
       "    <tr>\n",
       "      <th>3</th>\n",
       "      <td>22</td>\n",
       "      <td>36XX READING RD</td>\n",
       "      <td>39.147889</td>\n",
       "      <td>-84.489222</td>\n",
       "      <td>61-70</td>\n",
       "      <td>AVONDALE</td>\n",
       "      <td>AVONDALE</td>\n",
       "      <td>04/21/2018 01:00:00 PM</td>\n",
       "      <td>01 - NOT AN INTERSECTION</td>\n",
       "      <td>3 - PROPERTY DAMAGE ONLY (PDO)</td>\n",
       "      <td>...</td>\n",
       "      <td>185005525</td>\n",
       "      <td>7 - SIDESWIPE, SAME DIRECTION</td>\n",
       "      <td>01 - DRY</td>\n",
       "      <td>1 - STRAIGHT LEVEL</td>\n",
       "      <td>2 - BLACKTOP, BITUMINOUS, ASPHALT</td>\n",
       "      <td>AVONDALE</td>\n",
       "      <td>D - DRIVER</td>\n",
       "      <td>1 - CLEAR</td>\n",
       "      <td>45229</td>\n",
       "      <td>07 - PICKUP</td>\n",
       "    </tr>\n",
       "    <tr>\n",
       "      <th>4</th>\n",
       "      <td>23</td>\n",
       "      <td>37XX WARSAW AV</td>\n",
       "      <td>39.110989</td>\n",
       "      <td>-84.573138</td>\n",
       "      <td>31-40</td>\n",
       "      <td>EAST PRICE HILL</td>\n",
       "      <td>EAST PRICE HILL</td>\n",
       "      <td>09/01/2018 07:59:00 PM</td>\n",
       "      <td>03 - T-INTERSECTION</td>\n",
       "      <td>3 - PROPERTY DAMAGE ONLY (PDO)</td>\n",
       "      <td>...</td>\n",
       "      <td>185012267</td>\n",
       "      <td>6 - ANGLE</td>\n",
       "      <td>01 - DRY</td>\n",
       "      <td>1 - STRAIGHT LEVEL</td>\n",
       "      <td>2 - BLACKTOP, BITUMINOUS, ASPHALT</td>\n",
       "      <td>EAST PRICE HILL</td>\n",
       "      <td>D - DRIVER</td>\n",
       "      <td>1 - CLEAR</td>\n",
       "      <td>45205</td>\n",
       "      <td>04 - FULL SIZE</td>\n",
       "    </tr>\n",
       "  </tbody>\n",
       "</table>\n",
       "<p>5 rows × 27 columns</p>\n",
       "</div>"
      ],
      "text/plain": [
       "   Unnamed: 0        ADDRESS_X  LATITUDE_X  LONGITUDE_X    AGE  \\\n",
       "0          19     63XX GRACELY   39.107808   -84.688195  31-40   \n",
       "1          20   9XX CHATEAU AV   39.108110   -84.560280  18-25   \n",
       "2          21  30XX READING RD   39.135486   -84.496520  18-25   \n",
       "3          22  36XX READING RD   39.147889   -84.489222  61-70   \n",
       "4          23   37XX WARSAW AV   39.110989   -84.573138  31-40   \n",
       "\n",
       "  COMMUNITY_COUNCIL_NEIGHBORHOOD CPD_NEIGHBORHOOD               CRASHDATE  \\\n",
       "0                    SAYLER PARK     SAYLER  PARK  06/17/2014 05:25:00 PM   \n",
       "1                EAST PRICE HILL  EAST PRICE HILL  02/15/2015 03:00:00 PM   \n",
       "2                       AVONDALE         AVONDALE  07/23/2015 11:54:00 PM   \n",
       "3                       AVONDALE         AVONDALE  04/21/2018 01:00:00 PM   \n",
       "4                EAST PRICE HILL  EAST PRICE HILL  09/01/2018 07:59:00 PM   \n",
       "\n",
       "              CRASHLOCATION                   CRASHSEVERITY  ...  \\\n",
       "0       03 - T-INTERSECTION  3 - PROPERTY DAMAGE ONLY (PDO)  ...   \n",
       "1  01 - NOT AN INTERSECTION                      2 - INJURY  ...   \n",
       "2  01 - NOT AN INTERSECTION  3 - PROPERTY DAMAGE ONLY (PDO)  ...   \n",
       "3  01 - NOT AN INTERSECTION  3 - PROPERTY DAMAGE ONLY (PDO)  ...   \n",
       "4       03 - T-INTERSECTION  3 - PROPERTY DAMAGE ONLY (PDO)  ...   \n",
       "\n",
       "   LOCALREPORTNO                                      MANNEROFCRASH  \\\n",
       "0      145004877                                       2 - REAR-END   \n",
       "1      155002081  1 - NOT COLLISION BETWEEN TWO MOTOR VEHICLES I...   \n",
       "2      155010090                      7 - SIDESWIPE, SAME DIRECTION   \n",
       "3      185005525                      7 - SIDESWIPE, SAME DIRECTION   \n",
       "4      185012267                                          6 - ANGLE   \n",
       "\n",
       "  ROADCONDITIONSPRIMARY         ROADCONTOUR  \\\n",
       "0              01 - DRY  1 - STRAIGHT LEVEL   \n",
       "1              01 - DRY  2 - STRAIGHT GRADE   \n",
       "2              01 - DRY  1 - STRAIGHT LEVEL   \n",
       "3              01 - DRY  1 - STRAIGHT LEVEL   \n",
       "4              01 - DRY  1 - STRAIGHT LEVEL   \n",
       "\n",
       "                         ROADSURFACE SNA_NEIGHBORHOOD  TYPEOFPERSON  \\\n",
       "0  2 - BLACKTOP, BITUMINOUS, ASPHALT      SAYLER PARK    D - DRIVER   \n",
       "1  2 - BLACKTOP, BITUMINOUS, ASPHALT  EAST PRICE HILL  O - OCCUPANT   \n",
       "2  2 - BLACKTOP, BITUMINOUS, ASPHALT         AVONDALE  O - OCCUPANT   \n",
       "3  2 - BLACKTOP, BITUMINOUS, ASPHALT         AVONDALE    D - DRIVER   \n",
       "4  2 - BLACKTOP, BITUMINOUS, ASPHALT  EAST PRICE HILL    D - DRIVER   \n",
       "\n",
       "     WEATHER    ZIP        UNITTYPE  \n",
       "0  1 - CLEAR  45233   03 - MID SIZE  \n",
       "1  1 - CLEAR  45204    02 - COMPACT  \n",
       "2  1 - CLEAR  45206  04 - FULL SIZE  \n",
       "3  1 - CLEAR  45229     07 - PICKUP  \n",
       "4  1 - CLEAR  45205  04 - FULL SIZE  \n",
       "\n",
       "[5 rows x 27 columns]"
      ]
     },
     "execution_count": 3,
     "metadata": {},
     "output_type": "execute_result"
    }
   ],
   "source": [
    "df.head()"
   ]
  },
  {
   "cell_type": "code",
   "execution_count": 3,
   "metadata": {},
   "outputs": [
    {
     "data": {
      "text/plain": [
       "(258672, 27)"
      ]
     },
     "execution_count": 3,
     "metadata": {},
     "output_type": "execute_result"
    }
   ],
   "source": [
    "df.shape"
   ]
  },
  {
   "cell_type": "code",
   "execution_count": 4,
   "metadata": {},
   "outputs": [
    {
     "name": "stdout",
     "output_type": "stream",
     "text": [
      "<class 'pandas.core.frame.DataFrame'>\n",
      "RangeIndex: 258672 entries, 0 to 258671\n",
      "Data columns (total 27 columns):\n",
      " #   Column                          Non-Null Count   Dtype  \n",
      "---  ------                          --------------   -----  \n",
      " 0   Unnamed: 0                      258672 non-null  int64  \n",
      " 1   ADDRESS_X                       258669 non-null  object \n",
      " 2   LATITUDE_X                      258672 non-null  float64\n",
      " 3   LONGITUDE_X                     258672 non-null  float64\n",
      " 4   AGE                             258672 non-null  object \n",
      " 5   COMMUNITY_COUNCIL_NEIGHBORHOOD  253006 non-null  object \n",
      " 6   CPD_NEIGHBORHOOD                252959 non-null  object \n",
      " 7   CRASHDATE                       258669 non-null  object \n",
      " 8   CRASHLOCATION                   194021 non-null  object \n",
      " 9   CRASHSEVERITY                   258672 non-null  object \n",
      " 10  CRASHSEVERITYID                 258672 non-null  float64\n",
      " 11  DATECRASHREPORTED               258670 non-null  object \n",
      " 12  DAYOFWEEK                       258671 non-null  object \n",
      " 13  GENDER                          229683 non-null  object \n",
      " 14  INJURIES                        258450 non-null  object \n",
      " 15  INSTANCEID                      258672 non-null  object \n",
      " 16  LIGHTCONDITIONSPRIMARY          258670 non-null  object \n",
      " 17  LOCALREPORTNO                   258672 non-null  int64  \n",
      " 18  MANNEROFCRASH                   258671 non-null  object \n",
      " 19  ROADCONDITIONSPRIMARY           258670 non-null  object \n",
      " 20  ROADCONTOUR                     258670 non-null  object \n",
      " 21  ROADSURFACE                     258670 non-null  object \n",
      " 22  SNA_NEIGHBORHOOD                252935 non-null  object \n",
      " 23  TYPEOFPERSON                    258450 non-null  object \n",
      " 24  WEATHER                         258670 non-null  object \n",
      " 25  ZIP                             252087 non-null  object \n",
      " 26  UNITTYPE                        258450 non-null  object \n",
      "dtypes: float64(3), int64(2), object(22)\n",
      "memory usage: 53.3+ MB\n"
     ]
    }
   ],
   "source": [
    "df.info()"
   ]
  },
  {
   "cell_type": "code",
   "execution_count": 5,
   "metadata": {},
   "outputs": [
    {
     "data": {
      "text/plain": [
       "Unnamed: 0                            0\n",
       "ADDRESS_X                             3\n",
       "LATITUDE_X                            0\n",
       "LONGITUDE_X                           0\n",
       "AGE                                   0\n",
       "COMMUNITY_COUNCIL_NEIGHBORHOOD     5666\n",
       "CPD_NEIGHBORHOOD                   5713\n",
       "CRASHDATE                             3\n",
       "CRASHLOCATION                     64651\n",
       "CRASHSEVERITY                         0\n",
       "CRASHSEVERITYID                       0\n",
       "DATECRASHREPORTED                     2\n",
       "DAYOFWEEK                             1\n",
       "GENDER                            28989\n",
       "INJURIES                            222\n",
       "INSTANCEID                            0\n",
       "LIGHTCONDITIONSPRIMARY                2\n",
       "LOCALREPORTNO                         0\n",
       "MANNEROFCRASH                         1\n",
       "ROADCONDITIONSPRIMARY                 2\n",
       "ROADCONTOUR                           2\n",
       "ROADSURFACE                           2\n",
       "SNA_NEIGHBORHOOD                   5737\n",
       "TYPEOFPERSON                        222\n",
       "WEATHER                               2\n",
       "ZIP                                6585\n",
       "UNITTYPE                            222\n",
       "dtype: int64"
      ]
     },
     "execution_count": 5,
     "metadata": {},
     "output_type": "execute_result"
    }
   ],
   "source": [
    "df.isnull().sum()"
   ]
  },
  {
   "cell_type": "code",
   "execution_count": 6,
   "metadata": {
    "scrolled": true
   },
   "outputs": [
    {
     "data": {
      "text/html": [
       "<div>\n",
       "<style scoped>\n",
       "    .dataframe tbody tr th:only-of-type {\n",
       "        vertical-align: middle;\n",
       "    }\n",
       "\n",
       "    .dataframe tbody tr th {\n",
       "        vertical-align: top;\n",
       "    }\n",
       "\n",
       "    .dataframe thead th {\n",
       "        text-align: right;\n",
       "    }\n",
       "</style>\n",
       "<table border=\"1\" class=\"dataframe\">\n",
       "  <thead>\n",
       "    <tr style=\"text-align: right;\">\n",
       "      <th></th>\n",
       "      <th>count</th>\n",
       "      <th>mean</th>\n",
       "      <th>std</th>\n",
       "      <th>min</th>\n",
       "      <th>25%</th>\n",
       "      <th>50%</th>\n",
       "      <th>75%</th>\n",
       "      <th>max</th>\n",
       "    </tr>\n",
       "  </thead>\n",
       "  <tbody>\n",
       "    <tr>\n",
       "      <th>Unnamed: 0</th>\n",
       "      <td>258672.0</td>\n",
       "      <td>1.293545e+05</td>\n",
       "      <td>7.467232e+04</td>\n",
       "      <td>1.900000e+01</td>\n",
       "      <td>6.468675e+04</td>\n",
       "      <td>1.293545e+05</td>\n",
       "      <td>1.940222e+05</td>\n",
       "      <td>2.586900e+05</td>\n",
       "    </tr>\n",
       "    <tr>\n",
       "      <th>LATITUDE_X</th>\n",
       "      <td>258672.0</td>\n",
       "      <td>3.333947e+03</td>\n",
       "      <td>1.656398e+06</td>\n",
       "      <td>-8.448932e+01</td>\n",
       "      <td>3.911692e+01</td>\n",
       "      <td>3.913638e+01</td>\n",
       "      <td>3.916082e+01</td>\n",
       "      <td>8.424329e+08</td>\n",
       "    </tr>\n",
       "    <tr>\n",
       "      <th>LONGITUDE_X</th>\n",
       "      <td>258672.0</td>\n",
       "      <td>-1.520631e+04</td>\n",
       "      <td>7.684952e+06</td>\n",
       "      <td>-3.908552e+09</td>\n",
       "      <td>-8.454885e+01</td>\n",
       "      <td>-8.451477e+01</td>\n",
       "      <td>-8.448477e+01</td>\n",
       "      <td>1.000000e-03</td>\n",
       "    </tr>\n",
       "    <tr>\n",
       "      <th>CRASHSEVERITYID</th>\n",
       "      <td>258672.0</td>\n",
       "      <td>5.054298e+04</td>\n",
       "      <td>8.746358e+04</td>\n",
       "      <td>1.000000e+00</td>\n",
       "      <td>3.000000e+00</td>\n",
       "      <td>3.000000e+00</td>\n",
       "      <td>2.019010e+05</td>\n",
       "      <td>2.019050e+05</td>\n",
       "    </tr>\n",
       "    <tr>\n",
       "      <th>LOCALREPORTNO</th>\n",
       "      <td>258672.0</td>\n",
       "      <td>1.713458e+08</td>\n",
       "      <td>2.233038e+07</td>\n",
       "      <td>1.400000e+01</td>\n",
       "      <td>1.550072e+08</td>\n",
       "      <td>1.750033e+08</td>\n",
       "      <td>1.850186e+08</td>\n",
       "      <td>1.350001e+09</td>\n",
       "    </tr>\n",
       "  </tbody>\n",
       "</table>\n",
       "</div>"
      ],
      "text/plain": [
       "                    count          mean           std           min  \\\n",
       "Unnamed: 0       258672.0  1.293545e+05  7.467232e+04  1.900000e+01   \n",
       "LATITUDE_X       258672.0  3.333947e+03  1.656398e+06 -8.448932e+01   \n",
       "LONGITUDE_X      258672.0 -1.520631e+04  7.684952e+06 -3.908552e+09   \n",
       "CRASHSEVERITYID  258672.0  5.054298e+04  8.746358e+04  1.000000e+00   \n",
       "LOCALREPORTNO    258672.0  1.713458e+08  2.233038e+07  1.400000e+01   \n",
       "\n",
       "                          25%           50%           75%           max  \n",
       "Unnamed: 0       6.468675e+04  1.293545e+05  1.940222e+05  2.586900e+05  \n",
       "LATITUDE_X       3.911692e+01  3.913638e+01  3.916082e+01  8.424329e+08  \n",
       "LONGITUDE_X     -8.454885e+01 -8.451477e+01 -8.448477e+01  1.000000e-03  \n",
       "CRASHSEVERITYID  3.000000e+00  3.000000e+00  2.019010e+05  2.019050e+05  \n",
       "LOCALREPORTNO    1.550072e+08  1.750033e+08  1.850186e+08  1.350001e+09  "
      ]
     },
     "execution_count": 6,
     "metadata": {},
     "output_type": "execute_result"
    }
   ],
   "source": [
    "df.describe().T"
   ]
  },
  {
   "cell_type": "markdown",
   "metadata": {},
   "source": [
    "## This is second commit."
   ]
  },
  {
   "cell_type": "markdown",
   "metadata": {},
   "source": [
    "## Data Cleaning"
   ]
  },
  {
   "cell_type": "code",
   "execution_count": 7,
   "metadata": {},
   "outputs": [
    {
     "data": {
      "text/plain": [
       "0          3.0\n",
       "1          2.0\n",
       "2          3.0\n",
       "3          3.0\n",
       "4          3.0\n",
       "5          1.0\n",
       "6          3.0\n",
       "7          2.0\n",
       "8     201905.0\n",
       "9          3.0\n",
       "10         3.0\n",
       "11         3.0\n",
       "12         3.0\n",
       "13         3.0\n",
       "14    201905.0\n",
       "15         3.0\n",
       "16         3.0\n",
       "17    201905.0\n",
       "18         3.0\n",
       "19    201904.0\n",
       "Name: CRASHSEVERITYID, dtype: float64"
      ]
     },
     "execution_count": 7,
     "metadata": {},
     "output_type": "execute_result"
    }
   ],
   "source": [
    "# fix CRASHSEVERITYID\n",
    "df['CRASHSEVERITYID'][:20]"
   ]
  },
  {
   "cell_type": "code",
   "execution_count": 9,
   "metadata": {},
   "outputs": [
    {
     "data": {
      "text/plain": [
       "0     3 - PROPERTY DAMAGE ONLY (PDO)\n",
       "1                         2 - INJURY\n",
       "2     3 - PROPERTY DAMAGE ONLY (PDO)\n",
       "3     3 - PROPERTY DAMAGE ONLY (PDO)\n",
       "4     3 - PROPERTY DAMAGE ONLY (PDO)\n",
       "5                   1 - FATAL INJURY\n",
       "6     3 - PROPERTY DAMAGE ONLY (PDO)\n",
       "7                         2 - INJURY\n",
       "8           5 - PROPERTY DAMAGE ONLY\n",
       "9     3 - PROPERTY DAMAGE ONLY (PDO)\n",
       "10    3 - PROPERTY DAMAGE ONLY (PDO)\n",
       "11    3 - PROPERTY DAMAGE ONLY (PDO)\n",
       "12    3 - PROPERTY DAMAGE ONLY (PDO)\n",
       "13    3 - PROPERTY DAMAGE ONLY (PDO)\n",
       "14          5 - PROPERTY DAMAGE ONLY\n",
       "15    3 - PROPERTY DAMAGE ONLY (PDO)\n",
       "16    3 - PROPERTY DAMAGE ONLY (PDO)\n",
       "17          5 - PROPERTY DAMAGE ONLY\n",
       "18    3 - PROPERTY DAMAGE ONLY (PDO)\n",
       "19               4 - INJURY POSSIBLE\n",
       "Name: CRASHSEVERITY, dtype: object"
      ]
     },
     "execution_count": 9,
     "metadata": {},
     "output_type": "execute_result"
    }
   ],
   "source": [
    "df['CRASHSEVERITY'][:20]"
   ]
  },
  {
   "cell_type": "code",
   "execution_count": 10,
   "metadata": {},
   "outputs": [],
   "source": [
    "def CrashSeverityIDFixed(x):\n",
    "    \n",
    "    if x == 201905.0:\n",
    "        \n",
    "        return 5\n",
    "    \n",
    "    elif x == 201904.0:\n",
    "        \n",
    "        return 4\n",
    "    \n",
    "    elif x == 201903.0:\n",
    "        \n",
    "        return 3\n",
    "    \n",
    "    elif x == 201902.0:\n",
    "        \n",
    "        return 2\n",
    "    \n",
    "    else:\n",
    "        \n",
    "        return x\n",
    "    \n",
    "df['CRASHSEVERITYID'] = df['CRASHSEVERITYID'].apply(lambda x: CrashSeverityIDFixed(x))\n",
    "       \n"
   ]
  },
  {
   "cell_type": "code",
   "execution_count": 11,
   "metadata": {},
   "outputs": [
    {
     "data": {
      "text/plain": [
       "0     F - FEMALE\n",
       "1     F - FEMALE\n",
       "2     F - FEMALE\n",
       "3       M - MALE\n",
       "4       M - MALE\n",
       "5       M - MALE\n",
       "6            NaN\n",
       "7       M - MALE\n",
       "8     F - FEMALE\n",
       "9       M - MALE\n",
       "10      M - MALE\n",
       "11      M - MALE\n",
       "12    F - FEMALE\n",
       "13      M - MALE\n",
       "14    F - FEMALE\n",
       "15      M - MALE\n",
       "16    F - FEMALE\n",
       "17      M - MALE\n",
       "18      M - MALE\n",
       "19    F - FEMALE\n",
       "Name: GENDER, dtype: object"
      ]
     },
     "execution_count": 11,
     "metadata": {},
     "output_type": "execute_result"
    }
   ],
   "source": [
    "# Fix Gender\n",
    "\n",
    "df['GENDER'][:20]"
   ]
  },
  {
   "cell_type": "code",
   "execution_count": 12,
   "metadata": {},
   "outputs": [],
   "source": [
    "df.loc[(df['GENDER'] == 'MALE'), 'GENDER'] = 'M - MALE'\n",
    "df.loc[(df['GENDER'] == 'FEMALE'), 'GENDER'] = 'F - FEMALE'"
   ]
  },
  {
   "cell_type": "code",
   "execution_count": 13,
   "metadata": {},
   "outputs": [],
   "source": [
    "# Fix CRASHDIVERSITY\n",
    "df.loc[(df['CRASHSEVERITY'] == '1 - FATAL'), 'CRASHDIVERSITY'] = '1 - FATAL INJURY'\n",
    "df.loc[(df['CRASHSEVERITY'] == '3 - PROPERTY DAMAGE ONLY (PDO)'), 'CRASHDIVERSITY'] = '5 - PROPERTY DAMAGE ONLY'\n"
   ]
  },
  {
   "cell_type": "code",
   "execution_count": 14,
   "metadata": {},
   "outputs": [],
   "source": [
    "# CREATE A SIMPLE LOOP TO FIX THE OTHER 6 COLUMNS\n",
    "cols = ['INJURIES', 'LIGHTCONDITIONSPRIMARY', 'ROADCONDITIONSPRIMARY', 'ROADSURFACE', 'WEATHER', 'CRASHSEVERITY']\n",
    "\n",
    "for col in cols:\n",
    "    \n",
    "    df[col] = df[col].str.split(\" - \", 1).str[1]"
   ]
  },
  {
   "cell_type": "code",
   "execution_count": 15,
   "metadata": {},
   "outputs": [],
   "source": [
    "# Adjust some column types\n",
    "df = df.astype({\"CRASHSEVERITYID\": object, \"LOCALREPORTNO\": object})"
   ]
  },
  {
   "cell_type": "markdown",
   "metadata": {},
   "source": [
    "## Feature Engineering"
   ]
  },
  {
   "cell_type": "code",
   "execution_count": 17,
   "metadata": {},
   "outputs": [
    {
     "data": {
      "text/plain": [
       "0    06/17/2014 05:25:00 PM\n",
       "1    02/15/2015 03:00:00 PM\n",
       "2    07/23/2015 11:54:00 PM\n",
       "3    04/21/2018 01:00:00 PM\n",
       "4    09/01/2018 07:59:00 PM\n",
       "5    08/30/2015 09:51:00 PM\n",
       "6    11/07/2014 09:30:00 PM\n",
       "7    12/08/2015 01:33:00 PM\n",
       "8    01/24/2020 02:40:00 PM\n",
       "9    06/12/2013 04:08:00 PM\n",
       "Name: CRASHDATE, dtype: object"
      ]
     },
     "execution_count": 17,
     "metadata": {},
     "output_type": "execute_result"
    }
   ],
   "source": [
    "df.CRASHDATE[:10]"
   ]
  },
  {
   "cell_type": "code",
   "execution_count": 19,
   "metadata": {},
   "outputs": [],
   "source": [
    "# Data Adjustment\n",
    "df['CRASHDATE'] = pd.to_datetime(df['CRASHDATE'])\n",
    "df['CRASH_SHORTDATE'] = df['CRASHDATE'].dt.strftime('%Y/%m')\n",
    "df['CRASH_YEAR'] = pd.DatetimeIndex(df['CRASHDATE']).year\n",
    "df['CRASH_MONTH'] = pd.DatetimeIndex(df['CRASHDATE']).month\n",
    "df['CRASH_DAY'] = pd.DatetimeIndex(df['CRASHDATE']).day\n",
    "df['CRASH_DAYOFWEEK'] = pd.DatetimeIndex(df['CRASHDATE']).day_name()\n",
    "df['CRASH_ISWKND'] = df['CRASH_DAYOFWEEK'].apply(lambda x: 1 if x in [5,6] else 0)\n",
    "\n",
    "# Time Adjustments\n",
    "df['CRASH_HOUR'] = pd.DatetimeIndex(df['CRASHDATE']).hour\n",
    "\n",
    "def TimeofDay(x):\n",
    "    \n",
    "    if 4 <= x <= 7:\n",
    "        \n",
    "        return 'Early Morning'\n",
    "    \n",
    "    elif 8 <= x <= 11:\n",
    "        \n",
    "        return 'Morning'\n",
    "    \n",
    "    elif 12 <= x <= 15:\n",
    "        \n",
    "        return 'Noon'\n",
    "    \n",
    "    elif 16 <= x <= 19:\n",
    "        \n",
    "        return 'Evening'\n",
    "    \n",
    "    elif 20 <= x <= 23:\n",
    "        \n",
    "        return 'Night'\n",
    "    \n",
    "    else:\n",
    "        \n",
    "        return 'Midnight'\n",
    "    \n",
    "    \n",
    "df['CRASH_TIMEOFDAY'] = df['CRASH_HOUR'].apply(lambda x: TimeofDay(x))\n"
   ]
  },
  {
   "cell_type": "markdown",
   "metadata": {},
   "source": [
    "## Exploratory Data Analysis"
   ]
  },
  {
   "cell_type": "code",
   "execution_count": 33,
   "metadata": {},
   "outputs": [
    {
     "data": {
      "image/png": "[encoded data removed]",
      "text/plain": [
       "<Figure size 1008x432 with 1 Axes>"
      ]
     },
     "metadata": {
      "needs_background": "light"
     },
     "output_type": "display_data"
    }
   ],
   "source": [
    "# Crash Severity\n",
    "df_severity = df[\"CRASHSEVERITY\"].value_counts()\n",
    "\n",
    "# Define the plots\n",
    "fig, ax = plt.subplots(figsize = (14,6))\n",
    "df_severity.plot(kind='bar',\n",
    "        align='center', width=.5, edgecolor='black', ax=ax)\n",
    "\n",
    "# Format Labels\n",
    "plt.xticks(rotation=20)\n",
    "plt.title(\"Crash Severity\", fontdict = {'size':16})\n",
    "plt.ylabel(\"Count of Severity\", fontdict = {'size':12})\n",
    "plt.xlabel(\"\")\n",
    "for i in range(6):\n",
    "    plt.text(x = i, y = round(df_severity[i],2), s = '{:,}'.format(df_severity[i]), horizontalalignment = 'center', verticalalignment = 'bottom')\n",
    "plt.show()"
   ]
  },
  {
   "cell_type": "markdown",
   "metadata": {},
   "source": [
    "#### Types of Cars involved in Crashes"
   ]
  },
  {
   "cell_type": "code",
   "execution_count": 34,
   "metadata": {},
   "outputs": [
    {
     "data": {
      "image/png": "[encoded data removed]",
      "text/plain": [
       "<Figure size 1008x576 with 1 Axes>"
      ]
     },
     "metadata": {
      "needs_background": "light"
     },
     "output_type": "display_data"
    }
   ],
   "source": [
    "# Crash Severity\n",
    "\n",
    "df_unit = df['UNITTYPE'].value_counts()[:10]\n",
    "\n",
    "\n",
    "# Define the plots\n",
    "\n",
    "fig, ax = plt.subplots(figsize = (14, 8))\n",
    "df_unit.plot(kind='bar', align = 'center', width = .5, edgecolor = 'black',\n",
    "            color = list('r'*2) + list(['gray'] * 8), ax = ax)\n",
    "\n",
    "# Format Labels\n",
    "\n",
    "plt.xticks(rotation=20)\n",
    "plt.title(\"Types of Vehicles Involved in Crashes\", fontdict = {'size':16})\n",
    "plt.ylabel(\"Count\", fontdict = {'size':12})\n",
    "plt.xlabel(\"\")\n",
    "\n",
    "plt.show()"
   ]
  },
  {
   "cell_type": "markdown",
   "metadata": {},
   "source": [
    "#### Viewing Crash Severity by different age groups"
   ]
  },
  {
   "cell_type": "code",
   "execution_count": 41,
   "metadata": {},
   "outputs": [
    {
     "data": {
      "text/plain": [
       "<matplotlib.axes._subplots.AxesSubplot at 0x2c0e774a6a0>"
      ]
     },
     "execution_count": 41,
     "metadata": {},
     "output_type": "execute_result"
    },
    {
     "data": {
      "image/png": "[encoded data removed]",
      "text/plain": [
       "<Figure size 1296x720 with 1 Axes>"
      ]
     },
     "metadata": {
      "needs_background": "light"
     },
     "output_type": "display_data"
    }
   ],
   "source": [
    "df_age_crash = df.groupby('AGE')[\"CRASHSEVERITY\"].value_counts().unstack()\n",
    "\n",
    "df_age_crash.plot(\n",
    "    kind=\"bar\",\n",
    "    figsize = (18,10),\n",
    "    color=[\"brown\", \"red\", \"green\", \"navy\", 'gold','plum'],\n",
    "    width=.80,\n",
    "    title='Crash Severity by Age Group',\n",
    "    #ylabel='Count of Severity',\n",
    "    #xlabel=''\n",
    ")"
   ]
  },
  {
   "cell_type": "code",
   "execution_count": 42,
   "metadata": {},
   "outputs": [
    {
     "data": {
      "text/html": [
       "<div>\n",
       "<style scoped>\n",
       "    .dataframe tbody tr th:only-of-type {\n",
       "        vertical-align: middle;\n",
       "    }\n",
       "\n",
       "    .dataframe tbody tr th {\n",
       "        vertical-align: top;\n",
       "    }\n",
       "\n",
       "    .dataframe thead th {\n",
       "        text-align: right;\n",
       "    }\n",
       "</style>\n",
       "<table border=\"1\" class=\"dataframe\">\n",
       "  <thead>\n",
       "    <tr style=\"text-align: right;\">\n",
       "      <th>CRASHSEVERITY</th>\n",
       "      <th>FATAL</th>\n",
       "      <th>FATAL INJURY</th>\n",
       "      <th>INJURY</th>\n",
       "      <th>INJURY POSSIBLE</th>\n",
       "      <th>MINOR INJURY SUSPECTED</th>\n",
       "      <th>PROPERTY DAMAGE ONLY</th>\n",
       "      <th>PROPERTY DAMAGE ONLY (PDO)</th>\n",
       "      <th>SERIOUS INJURY SUSPECTED</th>\n",
       "    </tr>\n",
       "    <tr>\n",
       "      <th>AGE</th>\n",
       "      <th></th>\n",
       "      <th></th>\n",
       "      <th></th>\n",
       "      <th></th>\n",
       "      <th></th>\n",
       "      <th></th>\n",
       "      <th></th>\n",
       "      <th></th>\n",
       "    </tr>\n",
       "  </thead>\n",
       "  <tbody>\n",
       "    <tr>\n",
       "      <th>18-25</th>\n",
       "      <td>44</td>\n",
       "      <td>65</td>\n",
       "      <td>10781</td>\n",
       "      <td>1573</td>\n",
       "      <td>2004</td>\n",
       "      <td>8881</td>\n",
       "      <td>29409</td>\n",
       "      <td>215</td>\n",
       "    </tr>\n",
       "    <tr>\n",
       "      <th>26-30</th>\n",
       "      <td>20</td>\n",
       "      <td>65</td>\n",
       "      <td>6258</td>\n",
       "      <td>1046</td>\n",
       "      <td>1197</td>\n",
       "      <td>5379</td>\n",
       "      <td>17259</td>\n",
       "      <td>137</td>\n",
       "    </tr>\n",
       "    <tr>\n",
       "      <th>31-40</th>\n",
       "      <td>29</td>\n",
       "      <td>57</td>\n",
       "      <td>8766</td>\n",
       "      <td>1513</td>\n",
       "      <td>1883</td>\n",
       "      <td>8296</td>\n",
       "      <td>24690</td>\n",
       "      <td>210</td>\n",
       "    </tr>\n",
       "    <tr>\n",
       "      <th>41-50</th>\n",
       "      <td>22</td>\n",
       "      <td>57</td>\n",
       "      <td>6406</td>\n",
       "      <td>935</td>\n",
       "      <td>1133</td>\n",
       "      <td>5724</td>\n",
       "      <td>19121</td>\n",
       "      <td>130</td>\n",
       "    </tr>\n",
       "    <tr>\n",
       "      <th>51-60</th>\n",
       "      <td>25</td>\n",
       "      <td>40</td>\n",
       "      <td>5934</td>\n",
       "      <td>832</td>\n",
       "      <td>938</td>\n",
       "      <td>4985</td>\n",
       "      <td>17098</td>\n",
       "      <td>88</td>\n",
       "    </tr>\n",
       "    <tr>\n",
       "      <th>61-70</th>\n",
       "      <td>19</td>\n",
       "      <td>31</td>\n",
       "      <td>2954</td>\n",
       "      <td>521</td>\n",
       "      <td>540</td>\n",
       "      <td>2951</td>\n",
       "      <td>9152</td>\n",
       "      <td>62</td>\n",
       "    </tr>\n",
       "    <tr>\n",
       "      <th>OVER 70</th>\n",
       "      <td>13</td>\n",
       "      <td>23</td>\n",
       "      <td>1454</td>\n",
       "      <td>233</td>\n",
       "      <td>255</td>\n",
       "      <td>1316</td>\n",
       "      <td>4264</td>\n",
       "      <td>32</td>\n",
       "    </tr>\n",
       "    <tr>\n",
       "      <th>UNDER 18</th>\n",
       "      <td>9</td>\n",
       "      <td>39</td>\n",
       "      <td>4012</td>\n",
       "      <td>617</td>\n",
       "      <td>860</td>\n",
       "      <td>1181</td>\n",
       "      <td>3678</td>\n",
       "      <td>98</td>\n",
       "    </tr>\n",
       "    <tr>\n",
       "      <th>UNKNOWN</th>\n",
       "      <td>6</td>\n",
       "      <td>12</td>\n",
       "      <td>2258</td>\n",
       "      <td>521</td>\n",
       "      <td>528</td>\n",
       "      <td>7698</td>\n",
       "      <td>20038</td>\n",
       "      <td>52</td>\n",
       "    </tr>\n",
       "  </tbody>\n",
       "</table>\n",
       "</div>"
      ],
      "text/plain": [
       "CRASHSEVERITY  FATAL  FATAL INJURY  INJURY  INJURY POSSIBLE  \\\n",
       "AGE                                                           \n",
       "18-25             44            65   10781             1573   \n",
       "26-30             20            65    6258             1046   \n",
       "31-40             29            57    8766             1513   \n",
       "41-50             22            57    6406              935   \n",
       "51-60             25            40    5934              832   \n",
       "61-70             19            31    2954              521   \n",
       "OVER 70           13            23    1454              233   \n",
       "UNDER 18           9            39    4012              617   \n",
       "UNKNOWN            6            12    2258              521   \n",
       "\n",
       "CRASHSEVERITY  MINOR INJURY SUSPECTED  PROPERTY DAMAGE ONLY  \\\n",
       "AGE                                                           \n",
       "18-25                            2004                  8881   \n",
       "26-30                            1197                  5379   \n",
       "31-40                            1883                  8296   \n",
       "41-50                            1133                  5724   \n",
       "51-60                             938                  4985   \n",
       "61-70                             540                  2951   \n",
       "OVER 70                           255                  1316   \n",
       "UNDER 18                          860                  1181   \n",
       "UNKNOWN                           528                  7698   \n",
       "\n",
       "CRASHSEVERITY  PROPERTY DAMAGE ONLY (PDO)  SERIOUS INJURY SUSPECTED  \n",
       "AGE                                                                  \n",
       "18-25                               29409                       215  \n",
       "26-30                               17259                       137  \n",
       "31-40                               24690                       210  \n",
       "41-50                               19121                       130  \n",
       "51-60                               17098                        88  \n",
       "61-70                                9152                        62  \n",
       "OVER 70                              4264                        32  \n",
       "UNDER 18                             3678                        98  \n",
       "UNKNOWN                             20038                        52  "
      ]
     },
     "execution_count": 42,
     "metadata": {},
     "output_type": "execute_result"
    }
   ],
   "source": [
    "df_age_crash"
   ]
  },
  {
   "cell_type": "markdown",
   "metadata": {},
   "source": [
    "#### Day of Week"
   ]
  },
  {
   "cell_type": "code",
   "execution_count": 43,
   "metadata": {},
   "outputs": [
    {
     "data": {
      "image/png": "[encoded data removed]",
      "text/plain": [
       "<Figure size 504x504 with 1 Axes>"
      ]
     },
     "metadata": {},
     "output_type": "display_data"
    }
   ],
   "source": [
    "df_pie = df['CRASH_DAYOFWEEK'].value_counts(normalize = True).reset_index()\n",
    "\n",
    "df_pie['CRASH_DAYOFWEEK'] = 100*df_pie['CRASH_DAYOFWEEK']\n",
    "\n",
    "plt.figure(figsize = (7,7))\n",
    "\n",
    "plt.pie(\n",
    "    x = df_pie['CRASH_DAYOFWEEK'],\n",
    "    colors=[\"red\", \"springgreen\", \"yellow\", \"lavender\", 'tan','plum', 'cyan'],\n",
    "    labels = df_pie['index'],\n",
    "    explode = [0.1,0,0,0,0,0,0],\n",
    "    shadow = True,\n",
    "    autopct = '%1.1f%%',\n",
    "    startangle = 90   \n",
    ")\n",
    "plt.show()"
   ]
  },
  {
   "cell_type": "markdown",
   "metadata": {},
   "source": [
    "#### Day of the Month and Crashes"
   ]
  },
  {
   "cell_type": "code",
   "execution_count": 45,
   "metadata": {},
   "outputs": [
    {
     "data": {
      "image/png": "[encoded data removed]",
      "text/plain": [
       "<Figure size 1296x576 with 2 Axes>"
      ]
     },
     "metadata": {
      "needs_background": "light"
     },
     "output_type": "display_data"
    }
   ],
   "source": [
    "piv = pd.pivot_table(columns = df['CRASH_DAY'], values = 'CRASH_DAY', index = 'CRASH_MONTH', aggfunc = 'count', data = df)\n",
    "\n",
    "plt.figure(figsize = (18, 8))\n",
    "sns.heatmap(piv, cmap = 'Greens')\n",
    "\n",
    "plt.yticks(np.arange(0.5, 12.5) , ['Jan','Feb','Mar','Apr','May','Jun','Jul','Aug','Sept','Oct','Nov','Dec'])\n",
    "plt.xlabel('')\n",
    "plt.ylabel('')\n",
    "plt.title(\"Frequency of Crashes by Month and Day\", fontdict = {'size': 16})\n",
    "\n",
    "plt.show()\n",
    "\n"
   ]
  },
  {
   "cell_type": "markdown",
   "metadata": {},
   "source": [
    "#### Time and Day of Crashes"
   ]
  },
  {
   "cell_type": "code",
   "execution_count": 46,
   "metadata": {},
   "outputs": [
    {
     "data": {
      "image/png": "[encoded data removed]",
      "text/plain": [
       "<Figure size 864x432 with 2 Axes>"
      ]
     },
     "metadata": {
      "needs_background": "light"
     },
     "output_type": "display_data"
    }
   ],
   "source": [
    "piv = pd.pivot_table(columns= df['CRASH_TIMEOFDAY'], values = 'CRASH_TIMEOFDAY', index = 'CRASH_DAYOFWEEK', aggfunc = 'count', data = df)\n",
    "\n",
    "# redo the index\n",
    "piv = piv.reindex(\n",
    "    index = ['Sunday','Monday','Tuesday','Wednesday','Thursday','Friday','Saturday'],\n",
    "    columns = ['Early Morning','Morning','Noon','Evening','Night','Midnight'])\n",
    "\n",
    "plt.figure(figsize = (12, 6))\n",
    "sns.heatmap(piv, cmap = 'Blues')\n",
    "\n",
    "plt.xlabel('')\n",
    "plt.ylabel('')\n",
    "plt.title(\"Frequency of Crashes by Day and Time\", fontdict = {'size' : 16})\n",
    "plt.show()"
   ]
  },
  {
   "cell_type": "markdown",
   "metadata": {},
   "source": [
    "## Visualization on Maps"
   ]
  },
  {
   "cell_type": "code",
   "execution_count": 76,
   "metadata": {
    "scrolled": true
   },
   "outputs": [
    {
     "data": {
      "text/plain": [
       "\"\\n# Add some markers\\nfor marker in markers:\\n    \\n    folium.Marker([marker['lat'], marker['lon']],\\n                  popup = marker['desc'],\\n                  tooltip = marker['tip'],\\n                  icon=folium.Icon(color='red'),\\n                  min_width=300\\n                 ).add_to(cincy)\\n\\n# Plot it on the map\\nHeatMap(heat_data).add_to(cincy)\\n\\n# Display the map\\ncincy\\n\""
      ]
     },
     "execution_count": 76,
     "metadata": {},
     "output_type": "execute_result"
    }
   ],
   "source": [
    "# create the initial map\n",
    "cincy  = folium.Map(location = [39.117072, -84.520164],control_scale=True, zoom_start=14)\n",
    "\n",
    "# Triple checking that the colum is float\n",
    "df['LATITUDE_X'] = df['LATITUDE_X'].astype(float)\n",
    "df['LONGITUDE_X'] = df['LONGITUDE_X'].astype(float)\n",
    "\n",
    "\n",
    "# Filter down the data so that we only look at fatal crashes in 2020\n",
    "heat_df = df[df['CRASH_YEAR']==2020]\n",
    "heat_df = df[df['CRASHSEVERITY'] == 'FATAL INJURY']\n",
    "heat_df = heat_df[['LATITUDE_X', 'LONGITUDE_X']]\n",
    "heat_df = heat_df.dropna(axis=0, subset=['LATITUDE_X','LONGITUDE_X'])\n",
    "\n",
    "# Create a list of lists with list comprehension\n",
    "heat_data = [[row['LATITUDE_X'],row['LONGITUDE_X']] for index, row in heat_df.iterrows()]\n",
    "\n",
    "# Create a Title\n",
    "title_html = '''<h3 align=\"center\" style=\"font-size:18px\"><b>Cincinnati Fatal Crashes 2020</b></h3>'''\n",
    "cincy.get_root().html.add_child(folium.Element(title_html))\n",
    "\n",
    "'''\n",
    "# Add some markers\n",
    "for marker in markers:\n",
    "    \n",
    "    folium.Marker([marker['lat'], marker['lon']],\n",
    "                  popup = marker['desc'],\n",
    "                  tooltip = marker['tip'],\n",
    "                  icon=folium.Icon(color='red'),\n",
    "                  min_width=300\n",
    "                 ).add_to(cincy)\n",
    "\n",
    "# Plot it on the map\n",
    "HeatMap(heat_data).add_to(cincy)\n",
    "\n",
    "# Display the map\n",
    "cincy\n",
    "'''"
   ]
  },
  {
   "cell_type": "code",
   "execution_count": 68,
   "metadata": {},
   "outputs": [
    {
     "data": {
      "text/html": [
       "<div style=\"width:100%;\"><div style=\"position:relative;width:100%;height:0;padding-bottom:60%;\"><span style=\"color:#565656\">Make this Notebook Trusted to load map: File -> Trust Notebook</span><iframe src=\"about:blank\" style=\"position:absolute;width:100%;height:100%;left:0;top:0;border:none !important;\" data-html=%3C%21DOCTYPE%20html%3E%0A%3Chead%3E%20%20%20%20%0A%20%20%20%20%3Cmeta%20http-equiv%3D%22content-type%22%20content%3D%22text/html%3B%20charset%3DUTF-8%22%20/%3E%0A%20%20%20%20%0A%20%20%20%20%20%20%20%20%3Cscript%3E%0A%20%20%20%20%20%20%20%20%20%20%20%20L_NO_TOUCH%20%3D%20false%3B%0A%20%20%20%20%20%20%20%20%20%20%20%20L_DISABLE_3D%20%3D%20false%3B%0A%20%20%20%20%20%20%20%20%3C/script%3E%0A%20%20%20%20%0A%20%20%20%20%3Cstyle%3Ehtml%2C%20body%20%7Bwidth%3A%20100%25%3Bheight%3A%20100%25%3Bmargin%3A%200%3Bpadding%3A%200%3B%7D%3C/style%3E%0A%20%20%20%20%3Cstyle%3E%23map%20%7Bposition%3Aabsolute%3Btop%3A0%3Bbottom%3A0%3Bright%3A0%3Bleft%3A0%3B%7D%3C/style%3E%0A%20%20%20%20%3Cscript%20src%3D%22https%3A//cdn.jsdelivr.net/npm/leaflet%401.6.0/dist/leaflet.js%22%3E%3C/script%3E%0A%20%20%20%20%3Cscript%20src%3D%22https%3A//code.jquery.com/jquery-1.12.4.min.js%22%3E%3C/script%3E%0A%20%20%20%20%3Cscript%20src%3D%22https%3A//maxcdn.bootstrapcdn.com/bootstrap/3.2.0/js/bootstrap.min.js%22%3E%3C/script%3E%0A%20%20%20%20%3Cscript%20src%3D%22https%3A//cdnjs.cloudflare.com/ajax/libs/Leaflet.awesome-markers/2.0.2/leaflet.awesome-markers.js%22%3E%3C/script%3E%0A%20%20%20%20%3Clink%20rel%3D%22stylesheet%22%20href%3D%22https%3A//cdn.jsdelivr.net/npm/leaflet%401.6.0/dist/leaflet.css%22/%3E%0A%20%20%20%20%3Clink%20rel%3D%22stylesheet%22%20href%3D%22https%3A//maxcdn.bootstrapcdn.com/bootstrap/3.2.0/css/bootstrap.min.css%22/%3E%0A%20%20%20%20%3Clink%20rel%3D%22stylesheet%22%20href%3D%22https%3A//maxcdn.bootstrapcdn.com/bootstrap/3.2.0/css/bootstrap-theme.min.css%22/%3E%0A%20%20%20%20%3Clink%20rel%3D%22stylesheet%22%20href%3D%22https%3A//maxcdn.bootstrapcdn.com/font-awesome/4.6.3/css/font-awesome.min.css%22/%3E%0A%20%20%20%20%3Clink%20rel%3D%22stylesheet%22%20href%3D%22https%3A//cdnjs.cloudflare.com/ajax/libs/Leaflet.awesome-markers/2.0.2/leaflet.awesome-markers.css%22/%3E%0A%20%20%20%20%3Clink%20rel%3D%22stylesheet%22%20href%3D%22https%3A//cdn.jsdelivr.net/gh/python-visualization/folium/folium/templates/leaflet.awesome.rotate.min.css%22/%3E%0A%20%20%20%20%0A%20%20%20%20%20%20%20%20%20%20%20%20%3Cmeta%20name%3D%22viewport%22%20content%3D%22width%3Ddevice-width%2C%0A%20%20%20%20%20%20%20%20%20%20%20%20%20%20%20%20initial-scale%3D1.0%2C%20maximum-scale%3D1.0%2C%20user-scalable%3Dno%22%20/%3E%0A%20%20%20%20%20%20%20%20%20%20%20%20%3Cstyle%3E%0A%20%20%20%20%20%20%20%20%20%20%20%20%20%20%20%20%23map_755ac94f5b03495bbc8f8fae7699ba99%20%7B%0A%20%20%20%20%20%20%20%20%20%20%20%20%20%20%20%20%20%20%20%20position%3A%20relative%3B%0A%20%20%20%20%20%20%20%20%20%20%20%20%20%20%20%20%20%20%20%20width%3A%20100.0%25%3B%0A%20%20%20%20%20%20%20%20%20%20%20%20%20%20%20%20%20%20%20%20height%3A%20100.0%25%3B%0A%20%20%20%20%20%20%20%20%20%20%20%20%20%20%20%20%20%20%20%20left%3A%200.0%25%3B%0A%20%20%20%20%20%20%20%20%20%20%20%20%20%20%20%20%20%20%20%20top%3A%200.0%25%3B%0A%20%20%20%20%20%20%20%20%20%20%20%20%20%20%20%20%7D%0A%20%20%20%20%20%20%20%20%20%20%20%20%3C/style%3E%0A%20%20%20%20%20%20%20%20%0A%3C/head%3E%0A%3Cbody%3E%20%20%20%20%0A%20%20%20%20%3Ch3%20align%3D%22center%22%20style%3D%22font-size%3A18px%22%3E%3Cb%3ECincinnati%20Fatal%20Crashes%202020%3C/b%3E%3C/h3%3E%0A%20%20%20%20%0A%20%20%20%20%20%20%20%20%20%20%20%20%3Cdiv%20class%3D%22folium-map%22%20id%3D%22map_755ac94f5b03495bbc8f8fae7699ba99%22%20%3E%3C/div%3E%0A%20%20%20%20%20%20%20%20%0A%3C/body%3E%0A%3Cscript%3E%20%20%20%20%0A%20%20%20%20%0A%20%20%20%20%20%20%20%20%20%20%20%20var%20map_755ac94f5b03495bbc8f8fae7699ba99%20%3D%20L.map%28%0A%20%20%20%20%20%20%20%20%20%20%20%20%20%20%20%20%22map_755ac94f5b03495bbc8f8fae7699ba99%22%2C%0A%20%20%20%20%20%20%20%20%20%20%20%20%20%20%20%20%7B%0A%20%20%20%20%20%20%20%20%20%20%20%20%20%20%20%20%20%20%20%20center%3A%20%5B39.117072%2C%20-84.520164%5D%2C%0A%20%20%20%20%20%20%20%20%20%20%20%20%20%20%20%20%20%20%20%20crs%3A%20L.CRS.EPSG3857%2C%0A%20%20%20%20%20%20%20%20%20%20%20%20%20%20%20%20%20%20%20%20zoom%3A%2014%2C%0A%20%20%20%20%20%20%20%20%20%20%20%20%20%20%20%20%20%20%20%20zoomControl%3A%20true%2C%0A%20%20%20%20%20%20%20%20%20%20%20%20%20%20%20%20%20%20%20%20preferCanvas%3A%20false%2C%0A%20%20%20%20%20%20%20%20%20%20%20%20%20%20%20%20%7D%0A%20%20%20%20%20%20%20%20%20%20%20%20%29%3B%0A%20%20%20%20%20%20%20%20%20%20%20%20L.control.scale%28%29.addTo%28map_755ac94f5b03495bbc8f8fae7699ba99%29%3B%0A%0A%20%20%20%20%20%20%20%20%20%20%20%20%0A%0A%20%20%20%20%20%20%20%20%0A%20%20%20%20%0A%20%20%20%20%20%20%20%20%20%20%20%20var%20tile_layer_dda5ff5a3fd449a893d6e4b1f677c78a%20%3D%20L.tileLayer%28%0A%20%20%20%20%20%20%20%20%20%20%20%20%20%20%20%20%22https%3A//%7Bs%7D.tile.openstreetmap.org/%7Bz%7D/%7Bx%7D/%7By%7D.png%22%2C%0A%20%20%20%20%20%20%20%20%20%20%20%20%20%20%20%20%7B%22attribution%22%3A%20%22Data%20by%20%5Cu0026copy%3B%20%5Cu003ca%20href%3D%5C%22http%3A//openstreetmap.org%5C%22%5Cu003eOpenStreetMap%5Cu003c/a%5Cu003e%2C%20under%20%5Cu003ca%20href%3D%5C%22http%3A//www.openstreetmap.org/copyright%5C%22%5Cu003eODbL%5Cu003c/a%5Cu003e.%22%2C%20%22detectRetina%22%3A%20false%2C%20%22maxNativeZoom%22%3A%2018%2C%20%22maxZoom%22%3A%2018%2C%20%22minZoom%22%3A%200%2C%20%22noWrap%22%3A%20false%2C%20%22opacity%22%3A%201%2C%20%22subdomains%22%3A%20%22abc%22%2C%20%22tms%22%3A%20false%7D%0A%20%20%20%20%20%20%20%20%20%20%20%20%29.addTo%28map_755ac94f5b03495bbc8f8fae7699ba99%29%3B%0A%20%20%20%20%20%20%20%20%0A%3C/script%3E onload=\"this.contentDocument.open();this.contentDocument.write(    decodeURIComponent(this.getAttribute('data-html')));this.contentDocument.close();\" allowfullscreen webkitallowfullscreen mozallowfullscreen></iframe></div></div>"
      ],
      "text/plain": [
       "<folium.folium.Map at 0x2c0e7a071f0>"
      ]
     },
     "execution_count": 68,
     "metadata": {},
     "output_type": "execute_result"
    }
   ],
   "source": [
    "cincy"
   ]
  }
 ],
 "metadata": {
  "kernelspec": {
   "display_name": "Python 3",
   "language": "python",
   "name": "python3"
  },
  "language_info": {
   "codemirror_mode": {
    "name": "ipython",
    "version": 3
   },
   "file_extension": ".py",
   "mimetype": "text/x-python",
   "name": "python",
   "nbconvert_exporter": "python",
   "pygments_lexer": "ipython3",
   "version": "3.8.3"
  }
 },
 "nbformat": 4,
 "nbformat_minor": 4
}
